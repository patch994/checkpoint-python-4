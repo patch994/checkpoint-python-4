{
 "cells": [
  {
   "cell_type": "code",
   "execution_count": 16,
   "id": "125c1f05",
   "metadata": {},
   "outputs": [
    {
     "name": "stdout",
     "output_type": "stream",
     "text": [
      "Numéro de compte: 45855486\n",
      "Votre solde: 154580\n",
      "203080\n",
      "192580\n",
      "votre Nouveau solde: 192580\n"
     ]
    }
   ],
   "source": [
    "class compte :\n",
    "\n",
    "    def __init__(self,numéro_de_compte,balance_de_compte,titulaire_de_compte):\n",
    "        self.numéro_de_compte=numéro_de_compte\n",
    "        self.balance_de_compte=balance_de_compte\n",
    "        self.titulaire_de_compte=titulaire_de_compte\n",
    "    \n",
    "    def dépot(self,montant):\n",
    "        self.balance_de_compte=self.balance_de_compte+montant\n",
    "        return self.balance_de_compte\n",
    "    \n",
    "    def retiré(self,montant):\n",
    "        if montant>self.balance_de_compte:\n",
    "            print(\"solde insuffisant\")\n",
    "        else:\n",
    "            self.balance_de_compte=self.balance_de_compte-montant\n",
    "            return self.balance_de_compte\n",
    "        \n",
    "    def vérifier_balance(self):\n",
    "            return self.balance_de_compte\n",
    "    \n",
    "\n",
    "mon_compte= compte(45855486,154580,\"ahmed\")\n",
    "print(\"Numéro de compte:\",mon_compte.numéro_de_compte)\n",
    "print(\"Votre solde:\",mon_compte.balance_de_compte)\n",
    "print(mon_compte.dépot(48500))\n",
    "print(mon_compte.retiré(10500))\n",
    "print(\"votre Nouveau solde:\",mon_compte.vérifier_balance())"
   ]
  }
 ],
 "metadata": {
  "kernelspec": {
   "display_name": "Python 3",
   "language": "python",
   "name": "python3"
  },
  "language_info": {
   "codemirror_mode": {
    "name": "ipython",
    "version": 3
   },
   "file_extension": ".py",
   "mimetype": "text/x-python",
   "name": "python",
   "nbconvert_exporter": "python",
   "pygments_lexer": "ipython3",
   "version": "3.13.2"
  }
 },
 "nbformat": 4,
 "nbformat_minor": 5
}
